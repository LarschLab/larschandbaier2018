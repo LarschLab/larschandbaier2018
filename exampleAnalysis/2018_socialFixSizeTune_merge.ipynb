{
 "cells": [
  {
   "cell_type": "markdown",
   "metadata": {
    "collapsed": true
   },
   "source": [
    "# Experiment analysis: Attraction towards dots\n",
    "## can group animals by age or treatment"
   ]
  },
  {
   "cell_type": "code",
   "execution_count": null,
   "metadata": {
    "scrolled": false
   },
   "outputs": [],
   "source": [
    "import os\n",
    "import numpy as np\n",
    "import matplotlib.pyplot as plt\n",
    "import pandas as pd\n",
    "import seaborn as sns\n",
    "import scipy.stats as stats\n",
    "import glob\n",
    "from datetime import datetime\n",
    "\n",
    "#\n",
    "# load custom modules for social behavior analysis\n",
    "# enter path to your local repository here\n",
    "#os.chdir(r'C:\\Users\\Alex Tallafuss\\Documents\\social_repository')\n",
    "os.chdir(r'C:\\Users\\johannes\\Dropbox\\python\\zFishBehavior\\dishGroupBehavior')\n",
    "# ----------------------------\n",
    "\n",
    "\n",
    "import models.experiment as xp\n",
    "import models.experiment_set as es\n",
    "import functions.matrixUtilities_joh as mu\n",
    "import functions.paperFigureProps as pfp\n",
    "\n",
    "#\n",
    "# notebook configuration\n",
    "%config InteractiveShellApp.pylab_import_all = False\n",
    "%matplotlib inline\n",
    "%pylab inline\n",
    "%reload_ext autoreload\n",
    "%autoreload 2\n",
    "\n",
    "#\n",
    "# custom paper style plotting\n",
    "pfp.paper()"
   ]
  },
  {
   "cell_type": "markdown",
   "metadata": {},
   "source": [
    "Pre-Analyze all experiments only if necessary, this takes a couple of minutes! Experiment summary csv files are saved to disk."
   ]
  },
  {
   "cell_type": "code",
   "execution_count": null,
   "metadata": {},
   "outputs": [],
   "source": [
    "  \n",
    "# ENTER PATH to allExp.xlsx and allAn.xlsx HERE\n",
    "\n",
    "base=os.path.normpath(r'e:\\testData\\social\\\\')\n",
    "expFile=os.path.join(base,'AllExp.xlsx')\n",
    "anFile=os.path.join(base,'Allan.xlsx')\n",
    "\n",
    "# ENTER DATA PATH HERE\n",
    "\n",
    "RawDataDir = os.path.normpath(r'e:\\testData\\social\\\\')\n",
    "ProcessingDir = RawDataDir\n",
    "outputDir = RawDataDir\n",
    "# -------------------------------------"
   ]
  },
  {
   "cell_type": "code",
   "execution_count": null,
   "metadata": {},
   "outputs": [],
   "source": [
    "base"
   ]
  },
  {
   "cell_type": "code",
   "execution_count": null,
   "metadata": {},
   "outputs": [],
   "source": [
    "info=pd.read_excel(expFile)\n",
    "info=info[info.stimulusProtocol=='a']\n",
    "info.head()"
   ]
  },
  {
   "cell_type": "code",
   "execution_count": null,
   "metadata": {},
   "outputs": [],
   "source": [
    "infoAn=pd.read_excel(anFile)\n",
    "infoAn.head()"
   ]
  },
  {
   "cell_type": "code",
   "execution_count": null,
   "metadata": {},
   "outputs": [],
   "source": [
    "# collect meta information and save to new csv file for batch processing\n",
    "\n",
    "aviPath=[]\n",
    "posPath=[]\n",
    "PLPath=[]\n",
    "expTime = []\n",
    "condition=[]\n",
    "birthDayAll=[]\n",
    "    \n",
    "for index,row in info.iterrows():\n",
    "    startDir=os.path.join(RawDataDir,row.path)\n",
    "        \n",
    "    posPath.append(glob.glob(os.path.join(startDir,'PositionTxt*.txt'))[0])\n",
    "    PLPath.append(glob.glob(os.path.join(startDir,'PL*.txt'))[0])\n",
    "    \n",
    "    head, tail = os.path.split(posPath[-1])\n",
    "    currTime=datetime.strptime(tail[-23:-4], '%Y-%m-%dT%H_%M_%S')\n",
    "    expTime.append(currTime)\n",
    "    \n",
    "    anNrs=row.anNr\n",
    "    if ':' in anNrs:\n",
    "        a,b=anNrs.split(sep=':')\n",
    "        anNrs=np.arange(int(a),int(b)+1)\n",
    "    else:\n",
    "        anNrs=np.array(anNrs.split())\n",
    "        \n",
    "    anIDs=anNrs-1\n",
    "    \n",
    "    gt=infoAn.line.values[anIDs]\n",
    "    bd=infoAn.bd.values[anIDs]\n",
    "    condition.extend(list(gt))\n",
    "    birthDayAll.append(' '.join(list(bd)))\n",
    "\n",
    "    \n",
    "info['txtPath']=posPath\n",
    "info['pairList']=PLPath\n",
    "info['birthDayAll']=birthDayAll\n",
    "\n",
    "info['epiDur'] = 5      # duration of individual episodes (default: 5 minutes)\n",
    "info['episodes'] = -1   # number of episodes to process: -1 to load all episodes (default: -1)\n",
    "info['inDish'] = 10#np.arange(len(posPath))*120     # time in dish before experiments started (default: 10)\n",
    "info['arenaDiameter_mm'] = 100 # arena diameter (default: 100 mm)\n",
    "info['minShift'] = 60 # minimum number of seconds to shift for control IAD\n",
    "info['episodePLcode'] = 0 # flag if first two characters of episode name encode animal pair matrix (default: 0)\n",
    "info['recomputeAnimalSize'] = 0 # flag to compute animals size from avi file (takes time, default: 1)\n",
    "info['SaveNeighborhoodMaps'] = 0 # flag to save neighborhood maps for subsequent analysis (takes time, default: 1)\n",
    "info['computeLeadership'] = 0 # flag to compute leadership index (takes time, default: 1)\n",
    "info['ComputeBouts'] = 0 # flag to compute swim bout frequency (takes time, default: 1)\n",
    "info['set'] = np.arange(len(posPath))   # experiment set: can label groups of experiments (default: 0)\n",
    "info['ProcessingDir']=ProcessingDir\n",
    "info['outputDir']=outputDir\n",
    "\n",
    "info['expTime']=expTime\n",
    "condition=np.array(condition)\n",
    "\n",
    "csvFile=os.path.join(ProcessingDir,'processingSettings.csv')\n",
    "info.to_csv(csvFile,encoding='utf-8')\n",
    "info"
   ]
  },
  {
   "cell_type": "code",
   "execution_count": null,
   "metadata": {},
   "outputs": [],
   "source": [
    "rereadData=1\n",
    "if rereadData:\n",
    "    def readExperiment(keepData=False):\n",
    "        tmp=es.experiment_set(csvFile=csvFile)\n",
    "        if keepData:\n",
    "            return tmp\n",
    "        else:\n",
    "            return 1\n",
    "\n",
    "    expSet=readExperiment(keepData=True)"
   ]
  },
  {
   "cell_type": "code",
   "execution_count": null,
   "metadata": {},
   "outputs": [],
   "source": [
    "csvPath = []\n",
    "for f in [mu.splitall(x)[-1][:-4] for x in info.txtPath]:\n",
    "    csvPath.append(glob.glob(os.path.join(ProcessingDir,f,)+'*siSummary*.csv')[0])\n",
    "\n",
    "df=pd.DataFrame()\n",
    "i=0\n",
    "for fn in csvPath:\n",
    "    print(fn)\n",
    "    tmp=pd.read_csv(fn,index_col=0,sep=',')\n",
    "    tmp.animalSet=i\n",
    "    tmp.animalIndex=tmp.animalIndex+((i)*15)\n",
    "    df=pd.concat([df,tmp])\n",
    "    i+=1\n",
    "df['episode']=[x.strip().replace('_','') for x in df['episode']]\n",
    "\n",
    "print('df shape',df.shape)"
   ]
  },
  {
   "cell_type": "code",
   "execution_count": null,
   "metadata": {
    "scrolled": true
   },
   "outputs": [],
   "source": [
    "d=df.time\n",
    "r=datetime(int(df.time.values[0][:4]),1,1)\n",
    "t2=[pd.to_datetime(x).replace(day=1,month=1)for x in df.time]\n",
    "t3=[(x-r)/pd.Timedelta('1 hour') for x in t2]\n",
    "df['t2']=t2\n",
    "df['t3']=t3\n",
    "df.head()"
   ]
  },
  {
   "cell_type": "markdown",
   "metadata": {},
   "source": [
    "## Habituation or Fatigue within 20 hours?"
   ]
  },
  {
   "cell_type": "markdown",
   "metadata": {},
   "source": [
    "Plot shoaling index during closed loop skype episodes over time."
   ]
  },
  {
   "cell_type": "code",
   "execution_count": null,
   "metadata": {
    "scrolled": false
   },
   "outputs": [],
   "source": [
    "sns.tsplot(data=df, time=\"t3\",value=\"si\",unit=\"animalIndex\",condition=\"episode\",estimator=np.nanmean,interpolate=False,err_style=\"ci_bars\");\n",
    "plt.xlim([0,24])\n",
    "plt.axhline(0,ls=':',color='gray')"
   ]
  },
  {
   "cell_type": "markdown",
   "metadata": {},
   "source": [
    "# Plot individual 5 minute segments for all animals\n",
    "## here, using 'genotype' to sub-divide the data in each category"
   ]
  },
  {
   "cell_type": "code",
   "execution_count": null,
   "metadata": {},
   "outputs": [],
   "source": [
    "df['condition']=condition[df.animalIndex]"
   ]
  },
  {
   "cell_type": "code",
   "execution_count": null,
   "metadata": {},
   "outputs": [],
   "source": [
    "#Limit analysis to a time window (typically ignore fist 45 minutes and times later than 350 minutes)\n",
    "tStart=45\n",
    "tEnd=350\n",
    "idx=(df['inDishTime']<tEnd) & (df['inDishTime']>tStart)\n",
    "dfDR=df[idx]"
   ]
  },
  {
   "cell_type": "code",
   "execution_count": null,
   "metadata": {},
   "outputs": [],
   "source": [
    "sns.swarmplot(data=dfDR,\n",
    "              x='episode',\n",
    "              y='si',\n",
    "              hue='condition',\n",
    "              dodge=1)\n",
    "plt.axhline(0,ls=':')"
   ]
  },
  {
   "cell_type": "markdown",
   "metadata": {},
   "source": [
    "# average episodes over animals first\n",
    "### generally, using n = number of animals whenever possible "
   ]
  },
  {
   "cell_type": "code",
   "execution_count": null,
   "metadata": {},
   "outputs": [],
   "source": [
    "dfAnimalAverage=dfDR.groupby(['episode','animalIndex','condition'],sort=True).mean().reset_index()\n",
    "sns.swarmplot(data=dfAnimalAverage,\n",
    "              x='episode',\n",
    "              y='si',\n",
    "              hue='condition',\n",
    "              dodge=1)\n",
    "plt.axhline(0,ls=':')"
   ]
  },
  {
   "cell_type": "code",
   "execution_count": null,
   "metadata": {},
   "outputs": [],
   "source": [
    "sns.pointplot(data=dfAnimalAverage,\n",
    "              x='episode',\n",
    "              y='si',\n",
    "              hue='condition')\n",
    "plt.axhline(0,ls=':')\n"
   ]
  },
  {
   "cell_type": "code",
   "execution_count": null,
   "metadata": {},
   "outputs": [],
   "source": [
    "#individual animals\n",
    "dfDR.groupby(['episode','animalIndex'],sort=True)['si'].mean().unstack().plot()"
   ]
  },
  {
   "cell_type": "code",
   "execution_count": null,
   "metadata": {},
   "outputs": [],
   "source": [
    "sns.swarmplot(data=dfAnimalAverage,\n",
    "              x='episode',\n",
    "              y='si',\n",
    "              hue='condition',\n",
    "              dodge=1)\n",
    "\n",
    "sns.pointplot(data=dfAnimalAverage,\n",
    "              x='episode',\n",
    "              y='si',\n",
    "              hue='condition')\n",
    "\n",
    "plt.axhline(0,ls=':')"
   ]
  },
  {
   "cell_type": "markdown",
   "metadata": {},
   "source": [
    "# compare speed between groups"
   ]
  },
  {
   "cell_type": "code",
   "execution_count": null,
   "metadata": {},
   "outputs": [],
   "source": [
    "sns.pointplot(data=dfAnimalAverage,\n",
    "              x='episode',\n",
    "              y='avgSpeed',\n",
    "              hue='condition')\n",
    "plt.axhline(0,ls=':')\n",
    "\n",
    "#plt.ylabel('average Speed [mm/sec]')"
   ]
  },
  {
   "cell_type": "markdown",
   "metadata": {},
   "source": [
    "# thigmotaxis index"
   ]
  },
  {
   "cell_type": "code",
   "execution_count": null,
   "metadata": {},
   "outputs": [],
   "source": [
    "sns.pointplot(data=dfAnimalAverage,\n",
    "              x='episode',\n",
    "              y='thigmoIndex',\n",
    "              hue='condition')\n",
    "plt.axhline(0,ls=':')"
   ]
  },
  {
   "cell_type": "markdown",
   "metadata": {},
   "source": [
    "# bout duration"
   ]
  },
  {
   "cell_type": "code",
   "execution_count": null,
   "metadata": {},
   "outputs": [],
   "source": [
    "sns.pointplot(data=dfAnimalAverage,\n",
    "              x='episode',\n",
    "              y='boutDur',\n",
    "              hue='condition',\n",
    "              estimator=np.median, # bout duration can be heavily influenced by outliers\n",
    "             ci=None)\n",
    "plt.axhline(0,ls=':')"
   ]
  },
  {
   "cell_type": "markdown",
   "metadata": {},
   "source": [
    "# correlate size with attraction"
   ]
  },
  {
   "cell_type": "code",
   "execution_count": null,
   "metadata": {},
   "outputs": [],
   "source": [
    "# this only works if size was calculated from video\n",
    "ep=dfAnimalAverage.episode.unique()[3] #which episode data to plot\n",
    "print('using ',ep,' from: ',dfAnimalAverage.episode.unique())\n",
    "sns.pairplot(dfAnimalAverage[(np.isfinite(dfAnimalAverage.anSize))&(dfAnimalAverage.episode==ep)],vars=[\"anSize\", \"si\"])"
   ]
  },
  {
   "cell_type": "code",
   "execution_count": null,
   "metadata": {},
   "outputs": [],
   "source": []
  },
  {
   "cell_type": "markdown",
   "metadata": {},
   "source": [
    "# Plot average neighborhood maps for all animals"
   ]
  },
  {
   "cell_type": "code",
   "execution_count": null,
   "metadata": {},
   "outputs": [],
   "source": [
    "# get all the maps from the expSet data structure\n",
    "# (this data is also stored in a .npy file)\n",
    "nmatAll=np.array([y.animals[0].ts.neighborMat() for y in expSet.experiments[0].pair])"
   ]
  },
  {
   "cell_type": "code",
   "execution_count": null,
   "metadata": {},
   "outputs": [],
   "source": [
    "levels=df['episode'].unique()\n",
    "ans=df['animalIndex'].unique()\n",
    "avg=np.zeros((len(ans),len(levels),nmatAll.shape[1],nmatAll.shape[2]))\n"
   ]
  },
  {
   "cell_type": "code",
   "execution_count": null,
   "metadata": {},
   "outputs": [],
   "source": [
    "for an in ans:\n",
    "    for i in range(len(levels)):\n",
    "        ix=np.where((df['episode']==levels[i]) & (df['animalIndex']==an) & idx)[0]\n",
    "        avg[an,i,:,:]=nmatAll[ix,:,:].mean(axis=0)\n"
   ]
  },
  {
   "cell_type": "code",
   "execution_count": null,
   "metadata": {
    "scrolled": false
   },
   "outputs": [],
   "source": [
    "fig, axes = plt.subplots(nrows=15, ncols=7, sharex='col', sharey=True,figsize=(10, 30))\n",
    "m=np.nanpercentile(avg,95)\n",
    "trLab=treatName\n",
    "for an in ans:\n",
    "    for i in range(len(levels)):\n",
    "        axes[an,i].imshow(avg[an,i,:,:],clim=[0,m],extent=[-31,31,-31,31])\n",
    "        axes[an,i].set_title('a:'+str(an)+trLab[treatment[an]]+ 's:'+levels[i][-2:],fontsize=10)"
   ]
  },
  {
   "cell_type": "code",
   "execution_count": null,
   "metadata": {},
   "outputs": [],
   "source": [
    "levels=df['episode'].unique()\n",
    "treat=treatName\n",
    "avgT=np.zeros((len(treat),len(levels),nmatAll.shape[1],nmatAll.shape[2]))\n"
   ]
  },
  {
   "cell_type": "code",
   "execution_count": null,
   "metadata": {},
   "outputs": [],
   "source": [
    "for an in range(len(treat)):\n",
    "    for i in range(len(levels)):\n",
    "        ix=np.where((df['episode']==levels[i]) & (df['treatment']==treat[an]) & idx)[0]\n",
    "        avgT[an,i,:,:]=nmatAll[ix,:,:].mean(axis=0)\n",
    "        "
   ]
  },
  {
   "cell_type": "code",
   "execution_count": null,
   "metadata": {},
   "outputs": [],
   "source": [
    "from mpl_toolkits.axes_grid1 import AxesGrid\n",
    "import matplotlib\n",
    "def shiftedColorMap(cmap, start=0, midpoint=0.5, stop=1.0, name='shiftedcmap'):\n",
    "    '''\n",
    "    Function to offset the \"center\" of a colormap. Useful for\n",
    "    data with a negative min and positive max and you want the\n",
    "    middle of the colormap's dynamic range to be at zero\n",
    "\n",
    "    Input\n",
    "    -----\n",
    "      cmap : The matplotlib colormap to be altered\n",
    "      start : Offset from lowest point in the colormap's range.\n",
    "          Defaults to 0.0 (no lower ofset). Should be between\n",
    "          0.0 and `midpoint`.\n",
    "      midpoint : The new center of the colormap. Defaults to \n",
    "          0.5 (no shift). Should be between 0.0 and 1.0. In\n",
    "          general, this should be  1 - vmax/(vmax + abs(vmin))\n",
    "          For example if your data range from -15.0 to +5.0 and\n",
    "          you want the center of the colormap at 0.0, `midpoint`\n",
    "          should be set to  1 - 5/(5 + 15)) or 0.75\n",
    "      stop : Offset from highets point in the colormap's range.\n",
    "          Defaults to 1.0 (no upper ofset). Should be between\n",
    "          `midpoint` and 1.0.\n",
    "    '''\n",
    "    cdict = {\n",
    "        'red': [],\n",
    "        'green': [],\n",
    "        'blue': [],\n",
    "        'alpha': []\n",
    "    }\n",
    "\n",
    "    # regular index to compute the colors\n",
    "    reg_index = np.linspace(start, stop, 257)\n",
    "\n",
    "    # shifted index to match the data\n",
    "    shift_index = np.hstack([\n",
    "        np.linspace(0.0, midpoint, 128, endpoint=False), \n",
    "        np.linspace(midpoint, 1.0, 129, endpoint=True)\n",
    "    ])\n",
    "\n",
    "    for ri, si in zip(reg_index, shift_index):\n",
    "        r, g, b, a = cmap(ri)\n",
    "\n",
    "        cdict['red'].append((si, r, r))\n",
    "        cdict['green'].append((si, g, g))\n",
    "        cdict['blue'].append((si, b, b))\n",
    "        cdict['alpha'].append((si, a, a))\n",
    "\n",
    "    newcmap = matplotlib.colors.LinearSegmentedColormap(name, cdict)\n",
    "    plt.register_cmap(cmap=newcmap)\n",
    "\n",
    "    return newcmap"
   ]
  },
  {
   "cell_type": "code",
   "execution_count": null,
   "metadata": {},
   "outputs": [],
   "source": [
    "import matplotlib.gridspec as gridspec\n",
    "\n",
    "pfp.paper()\n",
    "inToCm=2.54\n",
    "\n",
    "ncols=len(df.episode.unique())\n",
    "nrows=len(df.treatment.unique())\n",
    "\n",
    "outer = gridspec.GridSpec(2, 2, width_ratios = [5,.1], wspace = 0.05) \n",
    "#make nested gridspecs\n",
    "gs2 = gridspec.GridSpecFromSubplotSpec(nrows, ncols, subplot_spec = outer[0])\n",
    "gs3 = gridspec.GridSpecFromSubplotSpec(1, 1, subplot_spec = outer[1])\n",
    "\n",
    "fig = plt.figure(figsize=(11/inToCm,11/inToCm))\n",
    "axes = [fig.add_subplot(gs2[i]) for i in range(ncols*nrows)]\n",
    "axesCB=[fig.add_subplot(gs3[i]) for i in range(1)]\n",
    "\n",
    "axesSP=fig.add_subplot(outer[2])\n",
    "\n",
    "m=np.nanpercentile(avgT,99)\n",
    "orig_cmap = matplotlib.cm.bwr\n",
    "cmap=shiftedColorMap(orig_cmap,midpoint=1-(m/(m+1)))\n",
    "\n",
    "trLab=treatName\n",
    "pal=['gray','r','g','m']\n",
    "for an in range(len(treat)):\n",
    "    for i in range(len(levels)):\n",
    "        ind=i+(ncols*an)\n",
    "        im = axes[ind].imshow(avgT[an,i,:,:],clim=[0,m],extent=[-31,31,-31,31],origin='lower')#,cmap=cmap)\n",
    "        axes[ind].tick_params(axis='y', which='both',length=0)\n",
    "        axes[ind].tick_params(axis='x', which='both',length=0)\n",
    "        axes[ind].set_xticks([])\n",
    "        axes[ind].set_yticks([])\n",
    "        axes[ind].spines['top'].set_color('white')\n",
    "        axes[ind].spines['bottom'].set_color('white')\n",
    "        axes[ind].spines['left'].set_color('white')\n",
    "        axes[ind].spines['right'].set_color('white')\n",
    "\n",
    "        if i==0:\n",
    "            axes[ind].set_title(trLab[an],fontsize=8,color=pal[an])\n",
    "            \n",
    "        if (i==5)&(an==0):\n",
    "            axes[ind].set_title('neighbor density',fontsize=9)\n",
    "\n",
    "cbar=plt.colorbar(im,cax=axesCB[0],ticks=np.round([0,1,m-0.1]))\n",
    "\n",
    "plt.subplots_adjust(wspace=0, hspace=0.1)\n",
    "\n",
    "social=df[idx].groupby(['treatment','episode','animalIndex']).si.mean().reset_index()\n",
    "social['xpretty']=[int(ss[-2:])/2. for ss in social.episode]\n",
    "sns.swarmplot(data=social,\n",
    "              x='xpretty',\n",
    "              hue='treatment',\n",
    "              y='si',\n",
    "              zorder=1,\n",
    "              linewidth=1,\n",
    "              edgecolor='gray',\n",
    "              ax=axesSP,\n",
    "              palette=pal,\n",
    "              alpha=0.7)\n",
    "\n",
    "sns.pointplot(x=\"xpretty\", y=\"si\", hue='treatment',data=social,ci=None,zorder=100,scale=2,ax=axesSP,palette=pal,\n",
    "              linewidth=1,edgecolor='gray')\n",
    "axesSP.spines['top'].set_color('white')\n",
    "axesSP.spines['bottom'].set_color('white')\n",
    "axesSP.spines['right'].set_color('white')\n",
    "axesSP.tick_params(axis='x', which='both',length=0)\n",
    "\n",
    "axesSP.yaxis.tick_left()\n",
    "axesSP.set_xlabel('dot diameter [mm]')\n",
    "axesSP.set_ylabel('attraction')\n",
    "handles, labels = axesSP.get_legend_handles_labels()\n",
    "axesSP.legend(handles[:4], labels[:4])\n",
    "\n",
    "axesSP.axhline(0,ls=':',color='k')\n"
   ]
  },
  {
   "cell_type": "code",
   "execution_count": null,
   "metadata": {},
   "outputs": [],
   "source": [
    "pfp.paper()\n",
    "fig, ax = plt.subplots(figsize=(2/inToCm,4.5/inToCm))\n",
    "\n",
    "social=df[idx].groupby(['treatment','animalIndex']).avgSpeed.mean().reset_index()\n",
    "sns.boxplot(y=\"avgSpeed\", x='treatment',data=social,ax=ax,palette=pal,linewidth=2)\n",
    "\n",
    "\n",
    "# Select which box you want to change    \n",
    "for i,artist in enumerate(ax.artists):\n",
    "# Change the appearance of that box\n",
    "    artist.set_edgecolor('k')\n",
    "    for j in range(i*6,i*6+6):\n",
    "        line = ax.lines[j]\n",
    "        line.set_color('k')\n",
    "        line.set_mfc('k')\n",
    "        line.set_mec('k')\n",
    "\n",
    "sns.swarmplot(data=social,x='treatment',y='avgSpeed',zorder=100,linewidth=1,ax=ax,palette=pal,alpha=0.7,edgecolor='k')\n",
    "\n",
    "plt.xlabel('')\n",
    "plt.xticks([])\n",
    "plt.ylabel('average Speed \\n [mm/sec]')\n",
    "\n",
    "plt.ylim([0,7])\n",
    "sns.despine()\n",
    "plt.subplots_adjust(wspace=0, hspace=0)\n"
   ]
  },
  {
   "cell_type": "code",
   "execution_count": null,
   "metadata": {},
   "outputs": [],
   "source": [
    "treatNum=len(treatName)"
   ]
  },
  {
   "cell_type": "code",
   "execution_count": null,
   "metadata": {},
   "outputs": [],
   "source": [
    "fig, axes = plt.subplots(nrows=treatNum, ncols=7, sharex=True, sharey=True,figsize=(10,10))\n",
    "m=np.nanpercentile(avg,95)\n",
    "trLab=treatName\n",
    "for an in range(len(treat)):\n",
    "    for i in range(len(levels)):\n",
    "        profile=avgT[an,i,:,29:31].mean(axis=1)\n",
    "        axes[an,i].plot(profile,np.arange(profile.shape[0])-30)\n",
    "        axes[an,i].set_title('a:'+str(an)+trLab[an]+ 's:'+levels[i][-2:],fontsize=10)\n",
    "        axes[an,i].axhline(0,ls=':',color='gray')\n"
   ]
  },
  {
   "cell_type": "code",
   "execution_count": null,
   "metadata": {},
   "outputs": [],
   "source": [
    "fig, axes = plt.subplots(nrows=treatNum, ncols=len(levels), sharex='col', sharey=True,figsize=(10, 10))\n",
    "m=np.nanpercentile(avg,95)\n",
    "trLab=treatName\n",
    "for an in range(len(treat)):\n",
    "    for i in range(len(levels)):\n",
    "        axes[an,i].plot(avgT[an,i,29:31,:].mean(axis=0))\n",
    "        axes[an,i].set_title('a:'+str(an)+trLab[an]+ 's:'+levels[i][-2:],fontsize=10)\n",
    "        axes[an,i].axvline(30)"
   ]
  },
  {
   "cell_type": "code",
   "execution_count": null,
   "metadata": {},
   "outputs": [],
   "source": []
  }
 ],
 "metadata": {
  "kernelspec": {
   "display_name": "Python 3",
   "language": "python",
   "name": "python3"
  },
  "language_info": {
   "codemirror_mode": {
    "name": "ipython",
    "version": 3
   },
   "file_extension": ".py",
   "mimetype": "text/x-python",
   "name": "python",
   "nbconvert_exporter": "python",
   "pygments_lexer": "ipython3",
   "version": "3.6.5"
  }
 },
 "nbformat": 4,
 "nbformat_minor": 1
}
