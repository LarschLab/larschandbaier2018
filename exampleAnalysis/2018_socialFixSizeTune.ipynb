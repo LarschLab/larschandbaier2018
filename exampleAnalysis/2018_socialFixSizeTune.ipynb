{
 "cells": [
  {
   "cell_type": "markdown",
   "metadata": {
    "collapsed": true
   },
   "source": [
    "# Experiment analysis: Size Varying sprite discs\n",
    "## animals are tectum MTZ ablated SAGFF(LF)81C with UAS:NTR-mcherry and controls (no mcherry expression visible)"
   ]
  },
  {
   "cell_type": "code",
   "execution_count": null,
   "metadata": {
    "scrolled": false
   },
   "outputs": [],
   "source": [
    "import os\n",
    "import numpy as np\n",
    "import matplotlib.pyplot as plt\n",
    "import pandas as pd\n",
    "import seaborn as sns\n",
    "import scipy.stats as stats\n",
    "import glob\n",
    "from datetime import datetime\n",
    "\n",
    "#\n",
    "# load custom modules for social behavior analysis\n",
    "# enter path to your local repository here\n",
    "os.chdir(r'C:\\Users\\johannes\\Dropbox\\python\\zFishBehavior\\dishGroupBehavior')\n",
    "# ----------------------------\n",
    "\n",
    "\n",
    "import models.experiment as xp\n",
    "import models.experiment_set as es\n",
    "import functions.matrixUtilities_joh as mu\n",
    "import functions.paperFigureProps as pfp\n",
    "\n",
    "#\n",
    "# notebook configuration\n",
    "%config InteractiveShellApp.pylab_import_all = False\n",
    "%matplotlib inline\n",
    "%pylab inline\n",
    "%reload_ext autoreload\n",
    "%autoreload 2\n",
    "\n",
    "#\n",
    "# custom paper style plotting\n",
    "pfp.paper()"
   ]
  },
  {
   "cell_type": "markdown",
   "metadata": {},
   "source": [
    "Pre-Analyze all experiments only if necessary, this takes a couple of minutes! Experiment summary csv files are saved to disk."
   ]
  },
  {
   "cell_type": "code",
   "execution_count": null,
   "metadata": {},
   "outputs": [],
   "source": [
    "\n",
    "\n",
    "# this example analysis has been tested on a subset of the raw data from:\n",
    "    # Larsch&Baier 2018\n",
    "    # Biological_motion_as_an_innate_perceptual_mechanism_driving_social_affiliation\n",
    "    # available at figshare: https://doi.org/10.6084/m9.figshare.6939923.v1\n",
    "    \n",
    "# 20170717_15Animal_skype_age\n",
    "# This experiment is part of figure 1E-G of the paper\n",
    "# In this experiment, animals of ages 17 and 20 dpf were tested in pair-wise skype interactions for mutual attraction.\n",
    "    \n",
    "# ENTER DATA PATH HERE\n",
    "\n",
    "startDir = os.path.normpath(r'E:\\AddYourPathHere\\20170717_15Animal_skype_age\\\\')\n",
    "# -------------------------------------\n",
    "\n",
    "\n",
    "# collect meta information and save to csv file\n",
    "info = pd.DataFrame()\n",
    "\n",
    "info['epiDur'] = [5]      # duration of individual episodes (default: 5)\n",
    "info['recomputeAnimalSize'] = 1 # want to re-compute animal size from video? default: 1\n",
    "info['arenaDiameter_mm'] = 100 # arena diameter in mm, default: 100\n",
    "info['SaveNeighborhoodMaps'] = 1 # compute and save neighbor density plots, default: 1\n",
    "info['ComputeBouts'] = 1 # compute bout frequency, default: 1\n",
    "\n",
    "birthDay = np.array(['2017-6-27', '2017-6-30'])   # birth date of animals. List all dates used in experiment, then assign below.\n",
    "birthTime = '09-00'         # birth time of animals. Use 9 am per default.\n",
    "\n",
    "#\n",
    "# specify birth day for each animal using indices from birth date list.\n",
    "birthIndex = np.array([ 0, 0, 0, 0, 0,\n",
    "                        0, 1, 1, 1, 1,\n",
    "                        1, 1, 1, 1, 1])\n",
    "\n",
    "birthDay_all = [birthDay[x]+'-'+birthTime for x in birthIndex]\n",
    "birthDay_all=' '.join(birthDay_all)\n",
    "\n",
    "# treatment of animals. List all treatments used in experiment, then assign below\n",
    "treatName = np.array(['a', 'b', 'c', 'd'])\n",
    "\n",
    "#\n",
    "# specify experimental treatment using indices from treatment names\n",
    "treatment = np.array([0, 1, 2, 3, 0,\n",
    "                      1, 2, 3, 0, 1,\n",
    "                      2, 3, 0, 1, 2])"
   ]
  },
  {
   "cell_type": "code",
   "execution_count": null,
   "metadata": {},
   "outputs": [],
   "source": [
    "aviPath = glob.glob(startDir+'\\\\*.avi')  # infer avi file - should be the only .avi file \n",
    "if len(aviPath) == 0:\n",
    "    aviPath=['']\n",
    "    print('no avi file found. cannot recompute animal size.')\n",
    "    info['recomputeAnimalSize'] = 0\n",
    "    \n",
    "    \n",
    "posPath = glob.glob(startDir+'\\\\PositionTxt*.txt')  # infer PositionTxt tile name\n",
    "PLPath = glob.glob(startDir+'\\\\PL*.txt')  # infer pair list file name\n",
    "\n",
    "info['aviPath'] = aviPath   #avi\n",
    "info['txtPath'] = posPath\n",
    "info['pairList'] = PLPath\n",
    "info['birthDayAll'] = birthDay_all\n",
    "#parse experiment time from file name\n",
    "head,tail=os.path.split(posPath[0])\n",
    "tmp=tail[tail.find('ROI')+3:-4]\n",
    "time = datetime.strptime(tmp, '%Y-%m-%dT%H_%M_%S')\n",
    "time= datetime.strftime(time, '%Y-%m-%d %H:%M:%S')\n",
    "info['expTime']=time\n",
    "\n",
    "csvFile = os.path.join(startDir,'csvProcess_fileList.csv')\n",
    "info.to_csv(csvFile, encoding='utf-8')\n",
    "\n",
    "print('Metadata saved to:', csvFile)\n",
    "\n",
    "info"
   ]
  },
  {
   "cell_type": "code",
   "execution_count": null,
   "metadata": {},
   "outputs": [],
   "source": [
    "expSet = es.experiment_set(csvFile=csvFile)\n",
    "print('done reading experiment')"
   ]
  },
  {
   "cell_type": "code",
   "execution_count": null,
   "metadata": {},
   "outputs": [],
   "source": [
    "expSet.experiments[0].pair[0].IAD_m()"
   ]
  },
  {
   "cell_type": "code",
   "execution_count": null,
   "metadata": {
    "scrolled": true
   },
   "outputs": [],
   "source": [
    "summaryFile = glob.glob(posPath[0][:-4]+'_siSummary_epi*')[0]\n",
    "print(summaryFile)\n",
    "df = pd.read_csv(summaryFile,index_col=0,sep=',')\n",
    "df['episode']=[x.strip().replace('_','') for x in df['episode']]\n",
    "df.head()"
   ]
  },
  {
   "cell_type": "code",
   "execution_count": null,
   "metadata": {},
   "outputs": [],
   "source": [
    "# add treatment column using animalIndex column and manually entered info from above\n",
    "\n",
    "df['treatment']=treatName[treatment[df.animalIndex]]\n",
    "df.head(6)"
   ]
  },
  {
   "cell_type": "code",
   "execution_count": null,
   "metadata": {
    "scrolled": true
   },
   "outputs": [],
   "source": [
    "d=df.time\n",
    "r=datetime(int(df.time[0][:4]),1,1)\n",
    "t2=[pd.to_datetime(x).replace(day=1,month=1)for x in df.time]\n",
    "t3=[(x-r)/pd.Timedelta('1 hour') for x in t2]\n",
    "df['t2']=t2\n",
    "df['t3']=t3\n",
    "df.head()"
   ]
  },
  {
   "cell_type": "markdown",
   "metadata": {},
   "source": [
    "## Habituation or Fatigue within 20 hours?"
   ]
  },
  {
   "cell_type": "markdown",
   "metadata": {},
   "source": [
    "Plot shoaling index during closed loop skype episodes over time."
   ]
  },
  {
   "cell_type": "code",
   "execution_count": null,
   "metadata": {
    "scrolled": false
   },
   "outputs": [],
   "source": [
    "sns.tsplot(data=df, time=\"t3\",value=\"si\",unit=\"animalIndex\",condition=\"episode\",estimator=np.nanmean,interpolate=False,err_style=\"ci_bars\");\n",
    "plt.xlim([0,24])\n",
    "plt.axhline(0,ls=':',color='gray')"
   ]
  },
  {
   "cell_type": "code",
   "execution_count": null,
   "metadata": {},
   "outputs": [],
   "source": [
    "#Limit analysis to a time window (typically ignore fist 45 minutes and times later than 350 minutes)\n",
    "tStart=45\n",
    "tEnd=350\n",
    "idx=(df['inDishTime']<tEnd) & (df['inDishTime']>tStart) & (df['animalIndex']!=11)\n",
    "dfDR=df[idx]"
   ]
  },
  {
   "cell_type": "markdown",
   "metadata": {},
   "source": [
    "# Plot individual 5 minute segments for all animals\n",
    "## here, using 'age' to sub-divide the data in each category"
   ]
  },
  {
   "cell_type": "code",
   "execution_count": null,
   "metadata": {},
   "outputs": [],
   "source": [
    "sns.swarmplot(data=dfDR,\n",
    "              x='episode',\n",
    "              y='si',\n",
    "              hue='age',\n",
    "              dodge=1)\n",
    "plt.axhline(0,ls=':')"
   ]
  },
  {
   "cell_type": "markdown",
   "metadata": {},
   "source": [
    "# Use manually assigned 'treatment' groups to sub divide the data\n",
    "### (for illustration only, this doesn't make sense in the demo data set)"
   ]
  },
  {
   "cell_type": "code",
   "execution_count": null,
   "metadata": {},
   "outputs": [],
   "source": [
    "sns.swarmplot(data=dfDR,\n",
    "              x='episode',\n",
    "              y='si',\n",
    "              hue='treatment',\n",
    "              dodge=1)\n",
    "plt.axhline(0,ls=':')"
   ]
  },
  {
   "cell_type": "markdown",
   "metadata": {},
   "source": [
    "# average episodes over animals first\n",
    "### generally, using n = number of animals whenever possible "
   ]
  },
  {
   "cell_type": "code",
   "execution_count": null,
   "metadata": {},
   "outputs": [],
   "source": [
    "dfAnimalAverage=dfDR.groupby(['episode','animalIndex','treatment'],sort=True).mean().reset_index()\n",
    "sns.swarmplot(data=dfAnimalAverage,\n",
    "              x='episode',\n",
    "              y='si',\n",
    "              hue='age',\n",
    "              dodge=1)\n",
    "plt.axhline(0,ls=':')"
   ]
  },
  {
   "cell_type": "code",
   "execution_count": null,
   "metadata": {},
   "outputs": [],
   "source": [
    "sns.pointplot(data=dfAnimalAverage,\n",
    "              x='episode',\n",
    "              y='si',\n",
    "              hue='age')\n",
    "plt.axhline(0,ls=':')\n"
   ]
  },
  {
   "cell_type": "code",
   "execution_count": null,
   "metadata": {},
   "outputs": [],
   "source": [
    "#individual animals\n",
    "dfDR.groupby(['episode','animalIndex'],sort=True)['si'].mean().unstack().plot()"
   ]
  },
  {
   "cell_type": "code",
   "execution_count": null,
   "metadata": {},
   "outputs": [],
   "source": [
    "sns.swarmplot(data=dfAnimalAverage,\n",
    "              x='episode',\n",
    "              y='si',\n",
    "              hue='treatment',\n",
    "              dodge=1)\n",
    "\n",
    "sns.pointplot(data=dfAnimalAverage,\n",
    "              x='episode',\n",
    "              y='si',\n",
    "              hue='treatment')\n",
    "\n",
    "plt.axhline(0,ls=':')"
   ]
  },
  {
   "cell_type": "markdown",
   "metadata": {},
   "source": [
    "# compare speed between groups"
   ]
  },
  {
   "cell_type": "code",
   "execution_count": null,
   "metadata": {},
   "outputs": [],
   "source": [
    "sns.pointplot(data=dfAnimalAverage,\n",
    "              x='episode',\n",
    "              y='avgSpeed',\n",
    "              hue='treatment')\n",
    "plt.axhline(0,ls=':')\n",
    "\n",
    "#plt.ylabel('average Speed [mm/sec]')"
   ]
  },
  {
   "cell_type": "markdown",
   "metadata": {},
   "source": [
    "# thigmotaxis index"
   ]
  },
  {
   "cell_type": "code",
   "execution_count": null,
   "metadata": {},
   "outputs": [],
   "source": [
    "sns.pointplot(data=dfAnimalAverage,\n",
    "              x='episode',\n",
    "              y='thigmoIndex',\n",
    "              hue='treatment')\n",
    "plt.axhline(0,ls=':')"
   ]
  },
  {
   "cell_type": "markdown",
   "metadata": {},
   "source": [
    "# bout duration"
   ]
  },
  {
   "cell_type": "code",
   "execution_count": null,
   "metadata": {},
   "outputs": [],
   "source": [
    "sns.pointplot(data=dfAnimalAverage,\n",
    "              x='episode',\n",
    "              y='boutDur',\n",
    "              hue='age',\n",
    "              estimator=np.median, # bout duration can be heavily influenced by outliers\n",
    "             ci=None)\n",
    "plt.axhline(0,ls=':')"
   ]
  },
  {
   "cell_type": "markdown",
   "metadata": {},
   "source": [
    "# correlate size with attraction"
   ]
  },
  {
   "cell_type": "code",
   "execution_count": null,
   "metadata": {},
   "outputs": [],
   "source": [
    "# this only works if size was calculated from video\n",
    "\n",
    "sns.pairplot(dfAnimalAverage,vars=[\"anSize\", \"si\"])"
   ]
  },
  {
   "cell_type": "code",
   "execution_count": null,
   "metadata": {},
   "outputs": [],
   "source": []
  },
  {
   "cell_type": "markdown",
   "metadata": {},
   "source": [
    "# Plot average neighborhood maps for all animals"
   ]
  },
  {
   "cell_type": "code",
   "execution_count": null,
   "metadata": {},
   "outputs": [],
   "source": [
    "# get all the maps from the expSet data structure\n",
    "# (this data is also stored in a .npy file)\n",
    "nmatAll=np.array([y.animals[0].ts.neighborMat() for y in expSet.experiments[0].pair])"
   ]
  },
  {
   "cell_type": "code",
   "execution_count": null,
   "metadata": {},
   "outputs": [],
   "source": [
    "levels=df['episode'].unique()\n",
    "ans=df['animalIndex'].unique()\n",
    "avg=np.zeros((len(ans),len(levels),nmatAll.shape[1],nmatAll.shape[2]))\n"
   ]
  },
  {
   "cell_type": "code",
   "execution_count": null,
   "metadata": {},
   "outputs": [],
   "source": [
    "for an in ans:\n",
    "    for i in range(len(levels)):\n",
    "        ix=np.where((df['episode']==levels[i]) & (df['animalIndex']==an) & idx)[0]\n",
    "        avg[an,i,:,:]=nmatAll[ix,:,:].mean(axis=0)\n"
   ]
  },
  {
   "cell_type": "code",
   "execution_count": null,
   "metadata": {
    "scrolled": false
   },
   "outputs": [],
   "source": [
    "fig, axes = plt.subplots(nrows=15, ncols=7, sharex='col', sharey=True,figsize=(10, 30))\n",
    "m=np.nanpercentile(avg,95)\n",
    "trLab=treatName\n",
    "for an in ans:\n",
    "    for i in range(len(levels)):\n",
    "        axes[an,i].imshow(avg[an,i,:,:],clim=[0,m],extent=[-31,31,-31,31])\n",
    "        axes[an,i].set_title('a:'+str(an)+trLab[treatment[an]]+ 's:'+levels[i][-2:],fontsize=10)"
   ]
  },
  {
   "cell_type": "code",
   "execution_count": null,
   "metadata": {},
   "outputs": [],
   "source": [
    "levels=df['episode'].unique()\n",
    "treat=treatNames\n",
    "avgT=np.zeros((len(treat),len(levels),nmatAll.shape[1],nmatAll.shape[2]))\n"
   ]
  },
  {
   "cell_type": "code",
   "execution_count": null,
   "metadata": {
    "scrolled": true
   },
   "outputs": [],
   "source": [
    "df['treatment']"
   ]
  },
  {
   "cell_type": "code",
   "execution_count": null,
   "metadata": {},
   "outputs": [],
   "source": [
    "for an in range(len(treat)):\n",
    "    for i in range(len(levels)):\n",
    "        ix=np.where((df['episode']==levels[i]) & (df['treatment']==treat[an]) & idx)[0]\n",
    "        avgT[an,i,:,:]=nmatAll[ix,:,:].mean(axis=0)\n",
    "        "
   ]
  },
  {
   "cell_type": "code",
   "execution_count": null,
   "metadata": {},
   "outputs": [],
   "source": [
    "from mpl_toolkits.axes_grid1 import AxesGrid\n",
    "import matplotlib\n",
    "def shiftedColorMap(cmap, start=0, midpoint=0.5, stop=1.0, name='shiftedcmap'):\n",
    "    '''\n",
    "    Function to offset the \"center\" of a colormap. Useful for\n",
    "    data with a negative min and positive max and you want the\n",
    "    middle of the colormap's dynamic range to be at zero\n",
    "\n",
    "    Input\n",
    "    -----\n",
    "      cmap : The matplotlib colormap to be altered\n",
    "      start : Offset from lowest point in the colormap's range.\n",
    "          Defaults to 0.0 (no lower ofset). Should be between\n",
    "          0.0 and `midpoint`.\n",
    "      midpoint : The new center of the colormap. Defaults to \n",
    "          0.5 (no shift). Should be between 0.0 and 1.0. In\n",
    "          general, this should be  1 - vmax/(vmax + abs(vmin))\n",
    "          For example if your data range from -15.0 to +5.0 and\n",
    "          you want the center of the colormap at 0.0, `midpoint`\n",
    "          should be set to  1 - 5/(5 + 15)) or 0.75\n",
    "      stop : Offset from highets point in the colormap's range.\n",
    "          Defaults to 1.0 (no upper ofset). Should be between\n",
    "          `midpoint` and 1.0.\n",
    "    '''\n",
    "    cdict = {\n",
    "        'red': [],\n",
    "        'green': [],\n",
    "        'blue': [],\n",
    "        'alpha': []\n",
    "    }\n",
    "\n",
    "    # regular index to compute the colors\n",
    "    reg_index = np.linspace(start, stop, 257)\n",
    "\n",
    "    # shifted index to match the data\n",
    "    shift_index = np.hstack([\n",
    "        np.linspace(0.0, midpoint, 128, endpoint=False), \n",
    "        np.linspace(midpoint, 1.0, 129, endpoint=True)\n",
    "    ])\n",
    "\n",
    "    for ri, si in zip(reg_index, shift_index):\n",
    "        r, g, b, a = cmap(ri)\n",
    "\n",
    "        cdict['red'].append((si, r, r))\n",
    "        cdict['green'].append((si, g, g))\n",
    "        cdict['blue'].append((si, b, b))\n",
    "        cdict['alpha'].append((si, a, a))\n",
    "\n",
    "    newcmap = matplotlib.colors.LinearSegmentedColormap(name, cdict)\n",
    "    plt.register_cmap(cmap=newcmap)\n",
    "\n",
    "    return newcmap"
   ]
  },
  {
   "cell_type": "code",
   "execution_count": null,
   "metadata": {},
   "outputs": [],
   "source": [
    "import matplotlib.gridspec as gridspec\n",
    "\n",
    "pfp.paper()\n",
    "inToCm=2.54\n",
    "\n",
    "ncols=len(df.episode.unique())\n",
    "nrows=len(df.treatment.unique())\n",
    "\n",
    "outer = gridspec.GridSpec(2, 2, width_ratios = [5,.1], wspace = 0.05) \n",
    "#make nested gridspecs\n",
    "gs2 = gridspec.GridSpecFromSubplotSpec(nrows, ncols, subplot_spec = outer[0])\n",
    "gs3 = gridspec.GridSpecFromSubplotSpec(1, 1, subplot_spec = outer[1])\n",
    "\n",
    "fig = plt.figure(figsize=(11/inToCm,11/inToCm))\n",
    "axes = [fig.add_subplot(gs2[i]) for i in range(ncols*nrows)]\n",
    "axesCB=[fig.add_subplot(gs3[i]) for i in range(1)]\n",
    "\n",
    "axesSP=fig.add_subplot(outer[2])\n",
    "\n",
    "m=np.nanpercentile(avgT,99)\n",
    "orig_cmap = matplotlib.cm.bwr\n",
    "cmap=shiftedColorMap(orig_cmap,midpoint=1-(m/(m+1)))\n",
    "\n",
    "trLab=treatName\n",
    "pal=['gray','r','g','m']\n",
    "for an in range(len(treat)):\n",
    "    for i in range(len(levels)):\n",
    "        ind=i+(ncols*an)\n",
    "        im = axes[ind].imshow(avgT[an,i,:,:],clim=[0,m],extent=[-31,31,-31,31],origin='lower')#,cmap=cmap)\n",
    "        axes[ind].tick_params(axis='y', which='both',length=0)\n",
    "        axes[ind].tick_params(axis='x', which='both',length=0)\n",
    "        axes[ind].set_xticks([])\n",
    "        axes[ind].set_yticks([])\n",
    "        axes[ind].spines['top'].set_color('white')\n",
    "        axes[ind].spines['bottom'].set_color('white')\n",
    "        axes[ind].spines['left'].set_color('white')\n",
    "        axes[ind].spines['right'].set_color('white')\n",
    "\n",
    "        if i==0:\n",
    "            axes[ind].set_title(trLab[an],fontsize=8,color=pal[an])\n",
    "            \n",
    "        if (i==5)&(an==0):\n",
    "            axes[ind].set_title('neighbor density',fontsize=9)\n",
    "\n",
    "cbar=plt.colorbar(im,cax=axesCB[0],ticks=np.round([0,1,m-0.1]))\n",
    "\n",
    "plt.subplots_adjust(wspace=0, hspace=0.1)\n",
    "\n",
    "social=df[idx].groupby(['treatment','episode','animalIndex']).si.mean().reset_index()\n",
    "social['xpretty']=[int(ss[-2:])/2. for ss in social.episode]\n",
    "sns.swarmplot(data=social,\n",
    "              x='xpretty',\n",
    "              hue='treatment',\n",
    "              y='si',\n",
    "              zorder=1,\n",
    "              linewidth=1,\n",
    "              edgecolor='gray',\n",
    "              ax=axesSP,\n",
    "              palette=pal,\n",
    "              alpha=0.7)\n",
    "\n",
    "sns.pointplot(x=\"xpretty\", y=\"si\", hue='treatment',data=social,ci=None,zorder=100,scale=2,ax=axesSP,palette=pal,\n",
    "              linewidth=1,edgecolor='gray')\n",
    "axesSP.spines['top'].set_color('white')\n",
    "axesSP.spines['bottom'].set_color('white')\n",
    "axesSP.spines['right'].set_color('white')\n",
    "axesSP.tick_params(axis='x', which='both',length=0)\n",
    "\n",
    "axesSP.yaxis.tick_left()\n",
    "axesSP.set_xlabel('dot diameter [mm]')\n",
    "axesSP.set_ylabel('attraction')\n",
    "handles, labels = axesSP.get_legend_handles_labels()\n",
    "axesSP.legend(handles[:4], labels[:4])\n",
    "\n",
    "axesSP.axhline(0,ls=':',color='k')\n"
   ]
  },
  {
   "cell_type": "code",
   "execution_count": null,
   "metadata": {},
   "outputs": [],
   "source": [
    "pfp.paper()\n",
    "fig, ax = plt.subplots(figsize=(2/inToCm,4.5/inToCm))\n",
    "\n",
    "social=df[idx].groupby(['treatment','animalIndex']).avgSpeed.mean().reset_index()\n",
    "sns.boxplot(y=\"avgSpeed\", x='treatment',data=social,ax=ax,palette=pal,linewidth=2)\n",
    "\n",
    "\n",
    "# Select which box you want to change    \n",
    "for i,artist in enumerate(ax.artists):\n",
    "# Change the appearance of that box\n",
    "    artist.set_edgecolor('k')\n",
    "    for j in range(i*6,i*6+6):\n",
    "        line = ax.lines[j]\n",
    "        line.set_color('k')\n",
    "        line.set_mfc('k')\n",
    "        line.set_mec('k')\n",
    "\n",
    "sns.swarmplot(data=social,x='treatment',y='avgSpeed',zorder=100,linewidth=1,ax=ax,palette=pal,alpha=0.7,edgecolor='k')\n",
    "\n",
    "plt.xlabel('')\n",
    "plt.xticks([])\n",
    "plt.ylabel('average Speed \\n [mm/sec]')\n",
    "\n",
    "plt.ylim([0,7])\n",
    "sns.despine()\n",
    "plt.subplots_adjust(wspace=0, hspace=0)\n"
   ]
  },
  {
   "cell_type": "code",
   "execution_count": null,
   "metadata": {},
   "outputs": [],
   "source": [
    "fig, axes = plt.subplots(nrows=treatNum, ncols=7, sharex=True, sharey=True,figsize=(10,10))\n",
    "m=np.nanpercentile(avg,95)\n",
    "trLab=treatNames\n",
    "for an in range(len(treat)):\n",
    "    for i in range(len(levels)):\n",
    "        profile=avgT[an,i,:,29:31].mean(axis=1)\n",
    "        axes[an,i].plot(profile,np.arange(profile.shape[0])-30)\n",
    "        axes[an,i].set_title('a:'+str(an)+trLab[an]+ 's:'+levels[i][-2:],fontsize=10)\n",
    "        axes[an,i].axhline(0,ls=':',color='gray')\n"
   ]
  },
  {
   "cell_type": "code",
   "execution_count": null,
   "metadata": {},
   "outputs": [],
   "source": [
    "fig, axes = plt.subplots(nrows=treatNum, ncols=len(levels), sharex='col', sharey=True,figsize=(10, 10))\n",
    "m=np.nanpercentile(avg,95)\n",
    "trLab=treatNames\n",
    "for an in range(len(treat)):\n",
    "    for i in range(len(levels)):\n",
    "        axes[an,i].plot(avgT[an,i,29:31,:].mean(axis=0))\n",
    "        axes[an,i].set_title('a:'+str(an)+trLab[an]+ 's:'+levels[i][-2:],fontsize=10)\n",
    "        axes[an,i].axvline(30)"
   ]
  },
  {
   "cell_type": "code",
   "execution_count": null,
   "metadata": {},
   "outputs": [],
   "source": []
  }
 ],
 "metadata": {
  "kernelspec": {
   "display_name": "Python 3",
   "language": "python",
   "name": "python3"
  },
  "language_info": {
   "codemirror_mode": {
    "name": "ipython",
    "version": 3
   },
   "file_extension": ".py",
   "mimetype": "text/x-python",
   "name": "python",
   "nbconvert_exporter": "python",
   "pygments_lexer": "ipython3",
   "version": "3.6.5"
  }
 },
 "nbformat": 4,
 "nbformat_minor": 1
}
